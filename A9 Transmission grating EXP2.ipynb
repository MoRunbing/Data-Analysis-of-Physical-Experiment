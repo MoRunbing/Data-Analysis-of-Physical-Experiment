{
 "metadata": {
  "language_info": {
   "codemirror_mode": {
    "name": "ipython",
    "version": 3
   },
   "file_extension": ".py",
   "mimetype": "text/x-python",
   "name": "python",
   "nbconvert_exporter": "python",
   "pygments_lexer": "ipython3",
   "version": "3.8.5-final"
  },
  "orig_nbformat": 2,
  "kernelspec": {
   "name": "python3",
   "display_name": "Python 3.8.5 64-bit (conda)",
   "metadata": {
    "interpreter": {
     "hash": "b3ba2566441a7c06988d0923437866b63cedc61552a5af99d1f4fb67d367b25f"
    }
   }
  }
 },
 "nbformat": 4,
 "nbformat_minor": 2,
 "cells": [
  {
   "source": [
    "# A9 Transmission grating EXP2\n",
    "by H cyan \n",
    " \n",
    "huangzw29@mail2.sysu.edu.cn\n",
    "\n",
    "2021.3.24"
   ],
   "cell_type": "markdown",
   "metadata": {}
  },
  {
   "source": [
    "## EXP2 Measure the wavelengh of the two yellow spectrual lines in the second diffraction order of the diffraction spectrum of Hg"
   ],
   "cell_type": "markdown",
   "metadata": {}
  },
  {
   "cell_type": "code",
   "execution_count": 21,
   "metadata": {},
   "outputs": [],
   "source": [
    "import math\n",
    "import numpy as np\n",
    "import pandas as pd\n",
    "\n",
    "def dms2rad(dms):\n",
    "    '''\n",
    "    Convert DMS to radian.\n",
    "    args:\n",
    "        dms - [degrees,minutes,seconds]\n",
    "    return:\n",
    "        rad - value measured in deg of radian.\n",
    "    '''\n",
    "    deg=dms[0]+dms[1]/60+dms[2]/3600\n",
    "    rad=math.radians(deg)\n",
    "    return rad\n",
    "\n",
    "# import data from exp1\n",
    "\n",
    "d=3.424451355053853e-06 # grating constant\n",
    "ud=1.8245960906790115e-09 # Sb of the grating constant\n",
    "uphi=dms2rad([0,1,0])/math.sqrt(3) # uphi\n",
    "sd=2.8340444255744426e-09 # the combined standard uncertainty S of the grating constant"
   ]
  },
  {
   "source": [
    "### 2.1 import data\n",
    "**Warning: measurments of phi1 may have some problems.**"
   ],
   "cell_type": "markdown",
   "metadata": {}
  },
  {
   "cell_type": "code",
   "execution_count": 22,
   "metadata": {},
   "outputs": [
    {
     "output_type": "stream",
     "name": "stdout",
     "text": [
      "          A         B\n0  1.649918  4.791220\n1  1.648754  4.790347\n2  1.304634  4.444772\n3  0.952659  4.268494\n4  0.951495  4.092215\n"
     ]
    }
   ],
   "source": [
    "reedAListdeg=[[94,32,0],[94,28,0],[74,45,0],[54,35,0],[54,31,0]]\n",
    "reedBListdeg=[[274,31,0],[274,28,0],[254,40,0],[244,34,0],[234,28,0]]\n",
    "reedAListrad=[]\n",
    "reedBListrad=[]\n",
    "\n",
    "\n",
    "for x in reedAListdeg:\n",
    "    reedAListrad.append(dms2rad(x))\n",
    "for x in reedBListdeg:\n",
    "    reedBListrad.append(dms2rad(x))\n",
    "\n",
    "\n",
    "df = pd.DataFrame({'A':np.array(reedAListrad),\\\n",
    "     'B':np.array(reedBListrad)})\n",
    " \n",
    "print(df)"
   ]
  },
  {
   "source": [
    "### 2.2 process data and caculate the list of phi"
   ],
   "cell_type": "markdown",
   "metadata": {}
  },
  {
   "cell_type": "code",
   "execution_count": 23,
   "metadata": {},
   "outputs": [
    {
     "output_type": "stream",
     "name": "stdout",
     "text": [
      "          A         B\n0       NaN       NaN\n1 -0.001164 -0.000873\n2 -0.344121 -0.345575\n3 -0.351975 -0.176278\n4 -0.001164 -0.176278\n{'list of phi': [0.3458660801035428, 0.3448479713732123, 0, 0.2641264934684755, 0.35284739711152047]}\n"
     ]
    }
   ],
   "source": [
    "DFdiff=df.diff()\n",
    "print(DFdiff)\n",
    "\n",
    "aa=-(DFdiff.iloc[1]['A']+DFdiff.iloc[1]['B']+DFdiff.iloc[2]['A']+DFdiff.iloc[2]['B'])/2\n",
    "bb=-(DFdiff.iloc[2]['A']+DFdiff.iloc[2]['B'])/2\n",
    "cc=-(DFdiff.iloc[3]['A']+DFdiff.iloc[3]['B'])/2\n",
    "dd=-(DFdiff.iloc[3]['A']+DFdiff.iloc[3]['B']+DFdiff.iloc[4]['A']+DFdiff.iloc[4]['B'])/2\n",
    "\n",
    "phiList=[aa,bb,0,cc,dd]\n",
    "print({'list of phi':phiList})"
   ]
  },
  {
   "source": [
    "### 2.3 Calculate the wavelengh lambda"
   ],
   "cell_type": "markdown",
   "metadata": {}
  },
  {
   "cell_type": "code",
   "execution_count": 24,
   "metadata": {},
   "outputs": [
    {
     "output_type": "stream",
     "name": "stdout",
     "text": [
      "{'[phi1,phi2]': [0.3044872324208439, 0.34935673860753164]}\n{'[lambda1,lambda2]': [5.133321651721434e-07, 5.860836760401778e-07]}\n"
     ]
    }
   ],
   "source": [
    "phi1List=np.array([phiList[1],phiList[3]])\n",
    "phi1=phi1List.mean()\n",
    "phi2List=np.array([phiList[0],phiList[4]])\n",
    "phi2=phi2List.mean()\n",
    "\n",
    "lambda1=(d*math.sin(phi1))/2\n",
    "lambda2=(d*math.sin(phi2))/2\n",
    "\n",
    "print({'[phi1,phi2]':[phi1,phi2]}  )\n",
    "print({'[lambda1,lambda2]':[lambda1,lambda2]})"
   ]
  },
  {
   "source": [
    "### 2.4 Uncertainty & degree of freedom"
   ],
   "cell_type": "markdown",
   "metadata": {}
  },
  {
   "cell_type": "code",
   "execution_count": 25,
   "metadata": {},
   "outputs": [
    {
     "output_type": "stream",
     "name": "stdout",
     "text": [
      "{'Sphi1': 0.05707870441383947, 'Sa1': 9.323701546741646e-08, 'Sb1': 3.873831260382876e-10, 'Slambda1': 9.323782021775066e-08}\n{'Sphi2': 0.004936536597953982, 'Sa2': 7.95667511465472e-09, 'Sb2': 4.129364165898476e-10, 'Slambda2': 7.96738321937082e-09}\n{'Va1': 1.000041523174276, 'Vb1': 1.9999820516795064, 'Vlambda1': 1.000076049834829}\n{'Va2': 1.007459816520603, 'Vb2': 1.9595038717589106, 'Vlambda2': 1.0128903600346324}\n"
     ]
    }
   ],
   "source": [
    "def Slambda(phik,phikList):\n",
    "    '''\n",
    "    calculate the uncertainty of lambda\n",
    "    args:\n",
    "        phik - angle of the kth line\n",
    "        phikList - list of measurements of angle of the kth line\n",
    "    return:\n",
    "        [Sak,Sbk,Slambdak]\n",
    "    '''\n",
    "    Sphik=phikList.std(ddof=1) \n",
    "    Sak=math.sqrt((math.sin(phik)*sd/2)**2+(d*math.cos(phik)*Sphik/2)**2)\n",
    "    Sbk=math.sqrt((math.sin(phik)*ud/2)**2+(d*math.cos(phik)*uphi/2)**2)\n",
    "    Slambdak=math.sqrt((Sak)**2+(Sbk)**2)\n",
    "    return [Sphik,Sak,Sbk,Slambdak]\n",
    "\n",
    "def Vlambda(phik,phikList):\n",
    "    '''\n",
    "    calculate the DOF of lambda\n",
    "    fuc Slambda() is invoked.\n",
    "    args:\n",
    "        phik - angle of kth line\n",
    "        phikList - the list of measurements of the angle of the kth line\n",
    "    return:\n",
    "        [Vak,Vbk,Vlambdak]\n",
    "    '''\n",
    "    Slist=Slambda(phik,phikList)\n",
    "    Vak=Slist[1]**4/((math.sin(phik)*sd/2)**4+(d*math.cos(phik)*Slist[0]/2)**4)\n",
    "    Vbk=Slist[2]**4/((math.sin(phik)*ud/2)**4+(d*math.cos(phik)*uphi/2)**4)\n",
    "    Vlambdak=Slist[3]**4/((Slist[1]**4/Vak)+(Slist[2]**4/Vbk))\n",
    "    return [Vak,Vbk,Vlambdak]\n",
    "\n",
    "\n",
    "Slist1=dict(zip(['Sphi1','Sa1','Sb1','Slambda1'],Slambda(phi1,phi1List)))\n",
    "Vlist1=dict(zip(['Va1','Vb1','Vlambda1'],Vlambda(phi1,phi1List)))\n",
    "Slist2=dict(zip(['Sphi2','Sa2','Sb2','Slambda2'],Slambda(phi2,phi2List)))\n",
    "Vlist2=dict(zip(['Va2','Vb2','Vlambda2'],Vlambda(phi2,phi2List)))\n",
    "print(Slist1)\n",
    "print(Slist2)\n",
    "print(Vlist1)\n",
    "print(Vlist2)\n",
    "\n"
   ]
  },
  {
   "source": [
    "### 2.5 Caculate angular dispersion D and S,V"
   ],
   "cell_type": "markdown",
   "metadata": {}
  },
  {
   "cell_type": "code",
   "execution_count": 26,
   "metadata": {},
   "outputs": [
    {
     "output_type": "stream",
     "name": "stdout",
     "text": [
      "D=616750.1630045527\n{'[Sad,Sbd,Sd]': [793303.2531719295, 4799.9524867340415, 793317.7743105479]}\n{'[Vad,Vbd,Vd]': [1.0146812464775161, 3.937910475416706, 1.0147555417084402]}\n"
     ]
    }
   ],
   "source": [
    "D=(phi1-phi2)/(lambda1-lambda2)\n",
    "print('D='+str(D))\n",
    "\n",
    "Sad=math.sqrt((Slist1['Sphi1'])**2+(Slist2[\"Sphi2\"])**2+(Slist1['Slambda1']*(D/(lambda1-lambda2)))**2+(Slist2[\"Slambda2\"]*(D/(lambda1-lambda2)))**2)\n",
    "Sbd=math.sqrt((uphi)**2+(uphi)**2+(Slist1['Sb1']*(D/(lambda1-lambda2)))**2+(Slist2['Sb2']*(D/(lambda1-lambda2)))**2)\n",
    "Sd=math.sqrt((Sad)**2+(Sbd)**2)\n",
    "\n",
    "Vad=Sad**4/((Slist1['Sphi1'])**4+(Slist2[\"Sphi2\"])**4+((Slist1['Slambda1']*(D/(lambda1-lambda2)))**4)/Vlist1['Vlambda1']+((Slist2[\"Slambda2\"]*(D/(lambda1-lambda2)))**4)/Vlist2['Vlambda2'])\n",
    "Vbd=Sbd**4/((uphi)**4+(uphi)**4+((Slist1['Sb1']*(D/(lambda1-lambda2)))**4)/Vlist1['Vb1']+((Slist2['Sb2']*(D/(lambda1-lambda2)))**4)/Vlist2['Vb2'])\n",
    "Vd=Sd**4/((Sad**4/Vad)+(Sbd**4/Vbd))\n",
    "\n",
    "print({'[Sad,Sbd,Sd]':[Sad,Sbd,Sd]})\n",
    "print({'[Vad,Vbd,Vd]':[Vad,Vbd,Vd]})\n"
   ]
  },
  {
   "cell_type": "code",
   "execution_count": null,
   "metadata": {},
   "outputs": [],
   "source": []
  }
 ]
}