{
 "metadata": {
  "language_info": {
   "codemirror_mode": {
    "name": "ipython",
    "version": 3
   },
   "file_extension": ".py",
   "mimetype": "text/x-python",
   "name": "python",
   "nbconvert_exporter": "python",
   "pygments_lexer": "ipython3",
   "version": "3.8.5-final"
  },
  "orig_nbformat": 2,
  "kernelspec": {
   "name": "python3",
   "display_name": "Python 3.8.5 64-bit (conda)",
   "metadata": {
    "interpreter": {
     "hash": "b3ba2566441a7c06988d0923437866b63cedc61552a5af99d1f4fb67d367b25f"
    }
   }
  }
 },
 "nbformat": 4,
 "nbformat_minor": 2,
 "cells": [
  {
   "source": [
    "# A9 Transmission grating EXP1\n",
    "by H cyan \n",
    " \n",
    "huangzw29@mail2.sysu.edu.cn\n",
    "\n",
    "2021.3.24"
   ],
   "cell_type": "markdown",
   "metadata": {}
  },
  {
   "source": [
    "## EXP1 Measure the grating constant d"
   ],
   "cell_type": "markdown",
   "metadata": {}
  },
  {
   "cell_type": "code",
   "execution_count": 6,
   "metadata": {},
   "outputs": [],
   "source": [
    "import math\n",
    "import numpy as np\n",
    "import pandas as pd\n",
    "\n",
    "def dms2rad(dms):\n",
    "    '''\n",
    "    Convert DMS to radian.\n",
    "    args:\n",
    "        dms - [degrees,minutes,seconds]\n",
    "    return:\n",
    "        rad - value measured in deg of radian.\n",
    "    '''\n",
    "    deg=dms[0]+dms[1]/60+dms[2]/3600\n",
    "    rad=math.radians(deg)\n",
    "    return rad\n"
   ]
  },
  {
   "source": [
    "### 1.1 imput data"
   ],
   "cell_type": "markdown",
   "metadata": {}
  },
  {
   "cell_type": "code",
   "execution_count": 7,
   "metadata": {},
   "outputs": [
    {
     "output_type": "stream",
     "name": "stdout",
     "text": [
      "          A         B\n0  1.655445  4.797037\n1  1.477712  4.617850\n2  1.304634  4.445354\n3  1.131846  4.272275\n4  0.952659  4.093670\n"
     ]
    }
   ],
   "source": [
    "reedAListdeg=[[94,51,0],[84,40,0],[74,45,0],[64,51,0],[54,35,0]]\n",
    "reedBListdeg=[[274,51,0],[264,35,0],[254,42,0],[244,47,0],[234,33,0]]\n",
    "reedAListrad=[]\n",
    "reedBListrad=[]\n",
    "\n",
    "\n",
    "for x in reedAListdeg:\n",
    "    reedAListrad.append(dms2rad(x))\n",
    "for x in reedBListdeg:\n",
    "    reedBListrad.append(dms2rad(x))\n",
    "\n",
    "\n",
    "df = pd.DataFrame({'A':np.array(reedAListrad),\\\n",
    "     'B':np.array(reedBListrad)})\n",
    " \n",
    "print(df)"
   ]
  },
  {
   "source": [
    "### 1.2 process data and caculate the list of phi"
   ],
   "cell_type": "markdown",
   "metadata": {}
  },
  {
   "cell_type": "code",
   "execution_count": 8,
   "metadata": {},
   "outputs": [
    {
     "output_type": "stream",
     "name": "stdout",
     "text": [
      "          A         B\n0       NaN       NaN\n1 -0.177733 -0.179187\n2 -0.173078 -0.172497\n3 -0.172788 -0.173078\n4 -0.179187 -0.178605\n{'list of phi': [0.35124751196385884, 0.17278759594743875, 0, 0.17293304005177135, 0.35182928838119]}\n"
     ]
    }
   ],
   "source": [
    "DFdiff=df.diff()\n",
    "print(DFdiff)\n",
    "\n",
    "aa=-(DFdiff.iloc[1]['A']+DFdiff.iloc[1]['B']+DFdiff.iloc[2]['A']+DFdiff.iloc[2]['B'])/2\n",
    "bb=-(DFdiff.iloc[2]['A']+DFdiff.iloc[2]['B'])/2\n",
    "cc=-(DFdiff.iloc[3]['A']+DFdiff.iloc[3]['B'])/2\n",
    "dd=-(DFdiff.iloc[3]['A']+DFdiff.iloc[3]['B']+DFdiff.iloc[4]['A']+DFdiff.iloc[4]['B'])/2\n",
    "\n",
    "phiList=[aa,bb,0,cc,dd]\n",
    "print({'list of phi':phiList})\n"
   ]
  },
  {
   "source": [
    "### 1.3 Calculate the grating constant d"
   ],
   "cell_type": "markdown",
   "metadata": {}
  },
  {
   "cell_type": "code",
   "execution_count": 9,
   "metadata": {},
   "outputs": [
    {
     "output_type": "stream",
     "name": "stdout",
     "text": [
      "d=3.424451355053853e-06\n"
     ]
    }
   ],
   "source": [
    "def calD(k,rad):\n",
    "    '''\n",
    "    Calculate the grating constant d.\n",
    "    args:\n",
    "        k - diffraction order\n",
    "        rad - phi(k)\n",
    "    return:\n",
    "        d - grating constant\n",
    "    '''\n",
    "    d=k*589.3e-9/math.sin(rad)\n",
    "    return d\n",
    "\n",
    "phi1List=np.array([phiList[1],phiList[3]])\n",
    "phi1 = phi1List.mean()\n",
    "phi2List=np.array([phiList[0],phiList[4]])\n",
    "phi2 = phi2List.mean()\n",
    "\n",
    "d1=calD(1,phi1)\n",
    "d2=calD(2,phi2)\n",
    "\n",
    "averd=(d1+d2)/2\n",
    "print('d=' + str(averd))"
   ]
  },
  {
   "source": [
    "### 1.4 Uncertainty & degree of freedom"
   ],
   "cell_type": "markdown",
   "metadata": {}
  },
  {
   "cell_type": "code",
   "execution_count": 10,
   "metadata": {},
   "outputs": [
    {
     "output_type": "stream",
     "name": "stdout",
     "text": [
      "{'[std of phi1,std of phi2]': [0.00010284451245718001, 0.00041137804982926957]}\n{'[Sa,Sb,S]': [2.1685610233536063e-09, 1.8245960906790115e-09, 2.8340444255744426e-09]}\n{'[Va,Vb,V]': [1.513457933197327, 1.4303388594730144, 2.884942826242537]}\n"
     ]
    }
   ],
   "source": [
    "# Sphik: standard deviation of phi(k)\n",
    "Sphi1=phi1List.std(ddof=1)\n",
    "Sphi2=phi2List.std(ddof=1)\n",
    "uphi=dms2rad([0,1,0])/math.sqrt(3)\n",
    "print({'[std of phi1,std of phi2]':[Sphi1,Sphi2]})\n",
    "\n",
    "\n",
    "# The transfer formula of uncertainty\n",
    "Sa=math.sqrt((1*589.3e-9*math.cos(phi1)*Sphi1/(2*(math.sin(phi1))**2))**2+(2*589.3e-9*math.cos(phi2)*Sphi2/(2*(math.sin(phi2))**2))**2)\n",
    "\n",
    "Sb=math.sqrt((1*589.3e-9*math.cos(phi1)*uphi/(2*(math.sin(phi1))**2))**2+(2*589.3e-9*math.cos(phi2)*uphi/(2*(math.sin(phi2))**2))**2)\n",
    "\n",
    "# Caculate combined standard uncertainty S\n",
    "S=math.sqrt((Sa)**2+(Sb)**2)\n",
    "\n",
    "\n",
    "# degree of freedom\n",
    "Va=Sa**4/((1*589.3e-9*math.cos(phi1)*Sphi1/(2*(math.sin(phi1))**2))**4+(2*589.3e-9*math.cos(phi2)*Sphi2/(2*(math.sin(phi2))**2))**4)\n",
    "\n",
    "Vb=Sb**4/((1*589.3e-9*math.cos(phi1)*uphi/(2*(math.sin(phi1))**2))**4+(2*589.3e-9*math.cos(phi2)*uphi/(2*(math.sin(phi2))**2))**4)\n",
    "\n",
    "V=S**4/((Sa**4/Va)+(Sb**4/Vb))\n",
    "\n",
    "\n",
    "print({'[Sa,Sb,S]':[Sa,Sb,S]})\n",
    "print({'[Va,Vb,V]':[Va,Vb,V]})\n"
   ]
  }
 ]
}