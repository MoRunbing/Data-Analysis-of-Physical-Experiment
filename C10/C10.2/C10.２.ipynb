{
 "cells": [
  {
   "cell_type": "markdown",
   "metadata": {
    "code_folding": []
   },
   "source": [
    "# C0.4Python应用\n",
    "[Experiment Report](http://lovephysics.sysu.edu.cn/lib/exe/fetch.php?media=courses:thirdlevel:gpl_iii_south_c10.2_20220210.pdf)"
   ]
  },
  {
   "cell_type": "markdown",
   "metadata": {},
   "source": [
    "## Experiment content"
   ]
  },
  {
   "cell_type": "markdown",
   "metadata": {},
   "source": [
    "$$\n",
    "a=b+c\\times\\frac{v}{t}\n",
    "$$"
   ]
  },
  {
   "cell_type": "markdown",
   "metadata": {},
   "source": [
    "|Syntax|Description|\n",
    "|------|-----------|\n",
    "|header|title      |\n",
    "|MRB   |ZYZ        |"
   ]
  },
  {
   "cell_type": "markdown",
   "metadata": {},
   "source": [
    "[views1.jpeg](/home/manager/Pictures/views1.jpeg)"
   ]
  },
  {
   "cell_type": "markdown",
   "metadata": {},
   "source": [
    "<mark>highlight</mark>"
   ]
  },
  {
   "cell_type": "markdown",
   "metadata": {
    "code_folding": []
   },
   "source": [
    "## Programing exercise"
   ]
  },
  {
   "cell_type": "markdown",
   "metadata": {},
   "source": [
    "### Exe.1"
   ]
  },
  {
   "cell_type": "code",
   "execution_count": 17,
   "metadata": {},
   "outputs": [
    {
     "data": {
      "text/plain": [
       "array([[[[  1,   2,   3,   4,   5],\n",
       "         [  6,   7,   8,   9,  10],\n",
       "         [ 11,  12,  13,  14,  15],\n",
       "         [ 16,  17,  18,  19,  20],\n",
       "         [ 21,  22,  23,  24,  25]],\n",
       "\n",
       "        [[ 26,  27,  28,  29,  30],\n",
       "         [ 31,  32,  33,  34,  35],\n",
       "         [ 36,  37,  38,  39,  40],\n",
       "         [ 41,  42,  43,  44,  45],\n",
       "         [ 46,  47,  48,  49,  50]],\n",
       "\n",
       "        [[ 51,  52,  53,  54,  55],\n",
       "         [ 56,  57,  58,  59,  60],\n",
       "         [ 61,  62,  63,  64,  65],\n",
       "         [ 66,  67,  68,  69,  70],\n",
       "         [ 71,  72,  73,  74,  75]]],\n",
       "\n",
       "\n",
       "       [[[ 76,  77,  78,  79,  80],\n",
       "         [ 81,  82,  83,  84,  85],\n",
       "         [ 86,  87,  88,  89,  90],\n",
       "         [ 91,  92,  93,  94,  95],\n",
       "         [ 96,  97,  98,  99, 100]],\n",
       "\n",
       "        [[101, 102, 103, 104, 105],\n",
       "         [106, 107, 108, 109, 110],\n",
       "         [111, 112, 113, 114, 115],\n",
       "         [116, 117, 118, 119, 120],\n",
       "         [121, 122, 123, 124, 125]],\n",
       "\n",
       "        [[126, 127, 128, 129, 130],\n",
       "         [131, 132, 133, 134, 135],\n",
       "         [136, 137, 138, 139, 140],\n",
       "         [141, 142, 143, 144, 145],\n",
       "         [146, 147, 148, 149, 150]]]])"
      ]
     },
     "execution_count": 17,
     "metadata": {},
     "output_type": "execute_result"
    }
   ],
   "source": [
    "#Numpy产生不同维度的数据\n",
    "import numpy as np   \n",
    "#导入numpy库\n",
    "arr=np.arange(1,151)\n",
    "#将数列转成不同维度的数组（矩阵），转换要求：维数之积等于数组长度。\n",
    "#四维数组\n",
    "arr.shape=(2,3,5,5)\n",
    "#三维数据\n",
    "#arr.shape=(3,5,10)\n",
    "#二维数组\n",
    "#arr.shape=(15,10)\n",
    "arr"
   ]
  },
  {
   "cell_type": "code",
   "execution_count": null,
   "metadata": {},
   "outputs": [],
   "source": []
  },
  {
   "cell_type": "markdown",
   "metadata": {},
   "source": [
    "### Exe.2"
   ]
  },
  {
   "cell_type": "code",
   "execution_count": 18,
   "metadata": {},
   "outputs": [
    {
     "data": {
      "text/plain": [
       "array([[[[ 76,  77,  78,  79,  80],\n",
       "         [ 81,  82,  83,  84,  85],\n",
       "         [ 86,  87,  88,  89,  90],\n",
       "         [ 91,  92,  93,  94,  95],\n",
       "         [ 96,  97,  98,  99, 100]],\n",
       "\n",
       "        [[101, 102, 103, 104, 105],\n",
       "         [106, 107, 108, 109, 110],\n",
       "         [111, 112, 113, 114, 115],\n",
       "         [116, 117, 118, 119, 120],\n",
       "         [121, 122, 123, 124, 125]],\n",
       "\n",
       "        [[126, 127, 128, 129, 130],\n",
       "         [131, 132, 133, 134, 135],\n",
       "         [136, 137, 138, 139, 140],\n",
       "         [141, 142, 143, 144, 145],\n",
       "         [146, 147, 148, 149, 150]]],\n",
       "\n",
       "\n",
       "       [[[  1,   2,   3,   4,   5],\n",
       "         [  6,   7,   8,   9,  10],\n",
       "         [ 11,  12,  13,  14,  15],\n",
       "         [ 16,  17,  18,  19,  20],\n",
       "         [ 21,  22,  23,  24,  25]],\n",
       "\n",
       "        [[ 26,  27,  28,  29,  30],\n",
       "         [ 31,  32,  33,  34,  35],\n",
       "         [ 36,  37,  38,  39,  40],\n",
       "         [ 41,  42,  43,  44,  45],\n",
       "         [ 46,  47,  48,  49,  50]],\n",
       "\n",
       "        [[ 51,  52,  53,  54,  55],\n",
       "         [ 56,  57,  58,  59,  60],\n",
       "         [ 61,  62,  63,  64,  65],\n",
       "         [ 66,  67,  68,  69,  70],\n",
       "         [ 71,  72,  73,  74,  75]]]])"
      ]
     },
     "execution_count": 18,
     "metadata": {},
     "output_type": "execute_result"
    }
   ],
   "source": [
    "#多维度切片，以arr.shape=(2,3,5,5)为例,对比原数组，查看下列操作的效果，注意去掉注释，理解“：”的用法。\n",
    "#多维度取数据\n",
    "arr[0,0,0]\n",
    "arr[:,:,1,1]\n",
    "arr[1,:,:3]\n",
    "arr[[1,0]] \n",
    "#第二个方括号内的数字对应标签#注意！numpy切片赋值不是复制！修改切片值会对原值产生影响。如果要独立赋值，需要用np.copy()\n",
    "#arr_part=arr[1,2,3:]\n",
    "#arr_part[:]=0.1\n",
    "#arr"
   ]
  },
  {
   "cell_type": "markdown",
   "metadata": {},
   "source": [
    "### Exe.3"
   ]
  },
  {
   "cell_type": "code",
   "execution_count": 19,
   "metadata": {},
   "outputs": [
    {
     "name": "stdout",
     "output_type": "stream",
     "text": [
      "[[[ 11.  12.  13.  14.  15.]\n",
      "  [ 36.  37.  38.  39.  40.]\n",
      "  [ 61.  62.  63.  64.  65.]]\n",
      "\n",
      " [[ 86.  87.  88.  89.  90.]\n",
      "  [111. 112. 113. 114. 115.]\n",
      "  [136. 137. 138. 139. 140.]]]\n",
      "Origin dimension (2, 3, 5, 5)\n",
      "Average with axis=0: (3, 5, 5)\n",
      "Average with axis=1: (2, 5, 5)\n",
      "Average with axis=2: (2, 3, 5)\n"
     ]
    }
   ],
   "source": [
    "#多维数据的轴概念。下面例子以(2,3,5,5)数组为例。改变维度组合，理解作用机制。\n",
    "#arr.transpose() #转置操作不改变原来的arr值。\n",
    "#arr.transpose(0,2,3,1)#输入元组(0,1,3,2)为对应的axis的次序，初始次序为（0,1,2,3），默认转置为(3,2,1,0)\n",
    "print(np.mean(arr,axis=2)) #选择不同的轴进行统计操作，如求平均值np.mean,求和np.sum,通过检查维度变化shape理解程序机制\n",
    "print('Origin dimension',arr.shape)\n",
    "print('Average with axis=0:',np.mean(arr,axis=0).shape)\n",
    "print('Average with axis=1:',np.mean(arr,axis=1).shape)\n",
    "print('Average with axis=2:',np.mean(arr,axis=2).shape)"
   ]
  },
  {
   "cell_type": "markdown",
   "metadata": {},
   "source": [
    "### Exe.4"
   ]
  },
  {
   "cell_type": "code",
   "execution_count": 20,
   "metadata": {},
   "outputs": [
    {
     "data": {
      "text/plain": [
       "array([  2,   4,   6,   8,  10,  12,  14,  16,  18,  20,  22,  24,  26,\n",
       "        28,  30,  32,  34,  36,  38,  40,  42,  44,  46,  48,  50,  52,\n",
       "        54,  56,  58,  60,  62,  64,  66,  68,  70,  72,  74,  76,  78,\n",
       "        80,  82,  84,  86,  88,  90,  92,  94,  96,  98, 100, 102, 104,\n",
       "       106, 108, 110, 112, 114, 116, 118, 120, 122, 124, 126, 128, 130,\n",
       "       132, 134, 136, 138, 140, 142, 144, 146, 148, 150])"
      ]
     },
     "execution_count": 20,
     "metadata": {},
     "output_type": "execute_result"
    }
   ],
   "source": [
    "#利用np.where获得满足条件的数据位置，该位置可以直接调用\n",
    "ind=np.where(arr%2==0) #“%”是求余数操作\n",
    "arr[ind]\n",
    "#arr[arr%2==0] #简化版，\n",
    "#arr[(arr>10)&(arr<40)]=0 #利用逻辑关系选取满足条件的数值，注意圆括号的位置！"
   ]
  },
  {
   "cell_type": "markdown",
   "metadata": {},
   "source": [
    "### Exe.5"
   ]
  },
  {
   "cell_type": "code",
   "execution_count": 21,
   "metadata": {},
   "outputs": [
    {
     "name": "stdout",
     "output_type": "stream",
     "text": [
      "arr3: \n",
      " [[[0 1 2]]\n",
      "\n",
      " [[3 4 5]]\n",
      "\n",
      " [[6 7 8]]]\n",
      "arr2.shape= (3, 3, 3, 3)\n",
      " arr3.shape=(3, 1, 3)\n",
      " res.shape=(3, 3, 3, 3)\n",
      "\n"
     ]
    }
   ],
   "source": [
    "arr2=np.zeros((3,3,3,3))#产生一个四维矩阵，元素为0\n",
    "arr3=np.arange(9).reshape(3,1,3) #切换不同的shape,(3,3),(3,3,1,1),(1,3,1,3),(3,1,3)等\n",
    "res=np.add(arr2,arr3) #其他具有Broadcasting的函数，np.subtract,np.multiply,np.divide,np.exp,np.mod等\n",
    "print('arr3: \\n',arr3)\n",
    "#print('广播处理后：\\n',res) #查看具体的结果差异\n",
    "print('arr2.shape= {0}\\n arr3.shape={1}\\n res.shape={2}\\n'.format(arr2.shape,arr3.shape,res.shape))"
   ]
  },
  {
   "cell_type": "markdown",
   "metadata": {},
   "source": [
    "### Exe.6"
   ]
  },
  {
   "cell_type": "code",
   "execution_count": 22,
   "metadata": {},
   "outputs": [
    {
     "name": "stdout",
     "output_type": "stream",
     "text": [
      "[[0 1 2]\n",
      " [3 4 5]\n",
      " [6 7 8]]\n",
      "[[0.26504883 0.02096399 0.67131552]\n",
      " [0.92399656 0.60475742 0.66953962]\n",
      " [0.81431257 0.34094726 0.18369666]]\n",
      "[[ 2.55262169  1.28665193  1.03693293]\n",
      " [ 8.56269556  4.18665794  5.6105883 ]\n",
      " [14.57276943  7.08666395 10.18424367]]\n",
      "[[ 2.55262169  1.28665193  1.03693293]\n",
      " [ 8.56269556  4.18665794  5.6105883 ]\n",
      " [14.57276943  7.08666395 10.18424367]]\n",
      "[[ 0.82352243 -1.58141235  2.75440415]\n",
      " [-2.63867979  3.4994961  -3.11200325]\n",
      " [ 1.24687064  0.51509026 -0.99031167]]\n",
      "12\n"
     ]
    }
   ],
   "source": [
    "#基于Numpy常用的矩阵计算\n",
    "mat1=np.arange(9).reshape(3,3)\n",
    "mat2=np.random.rand(3,3)\n",
    "print(mat1)\n",
    "print(mat2)\n",
    "print(mat1.dot(mat2))\n",
    "print(mat1@mat2)#np.dot的另一种写法。\n",
    "print(np.linalg.inv(mat2))#使用np.linalg库，对矩阵进行求逆inv()、特征值det(),QR分解qr()等\n",
    "print(np.trace(mat1)) #求迹"
   ]
  },
  {
   "cell_type": "markdown",
   "metadata": {},
   "source": [
    "### Exe.7"
   ]
  },
  {
   "cell_type": "markdown",
   "metadata": {},
   "source": [
    "|   ID    |   Class   |  Name  | Gendar | ClassSponsor | Math | English | Physics |\n",
    "| :-----: | :-------: | :----: | :----: | :----------: | :--: | :-----: | :-----: |\n",
    "| 2011A01 | 2011级A班 | 麦麦提 |   男   |     郭靖     |  88  |   87    |   90    |\n",
    "| 2011A02 | 2011级A班 |  孙涵  |   男   |     郭靖     |  90  |   59    |   91    |\n",
    "| 2011A03 | 2011级A班 |  汤子  |   女   |     郭靖     |  92  |   98    |   92    |\n",
    "| 2011A04 | 2011级A班 | 王婧文 |   男   |     郭靖     |  84  |   71    |   90    |\n",
    "| 2011A05 | 2011级A班 |  王瑞  |   女   |     郭靖     |  75  |   58    |   72    |\n",
    "| 2011A06 | 2011级A班 |  魏志  |   男   |     郭靖     |  84  |   97    |   89    |\n",
    "| 2011A07 | 2011级A班 |  文玺  |   男   |     郭靖     |  87  |   93    |   89    |\n",
    "| 2011A08 | 2011级A班 | 吴茼茼 |   男   |     郭靖     |  92  |   78    |   87    |\n",
    "| 2011A09 | 2011级A班 |  谢烨  |   男   |     郭靖     |  61  |   94    |   64    |\n",
    "| 2011A10 | 2011级A班 | 许阳刚 |   男   |     郭靖     |  94  |   68    |   92    |\n",
    "| 2011A11 | 2011级A班 | 杨劼池 |   女   |     郭靖     |  58  |   61    |   58    |\n",
    "\n"
   ]
  },
  {
   "cell_type": "code",
   "execution_count": 23,
   "metadata": {},
   "outputs": [
    {
     "data": {
      "text/html": [
       "<div>\n",
       "<style scoped>\n",
       "    .dataframe tbody tr th:only-of-type {\n",
       "        vertical-align: middle;\n",
       "    }\n",
       "\n",
       "    .dataframe tbody tr th {\n",
       "        vertical-align: top;\n",
       "    }\n",
       "\n",
       "    .dataframe thead th {\n",
       "        text-align: right;\n",
       "    }\n",
       "</style>\n",
       "<table border=\"1\" class=\"dataframe\">\n",
       "  <thead>\n",
       "    <tr style=\"text-align: right;\">\n",
       "      <th></th>\n",
       "      <th>Class</th>\n",
       "      <th>Name</th>\n",
       "      <th>Gendar</th>\n",
       "      <th>ClassSponsor</th>\n",
       "      <th>Math</th>\n",
       "      <th>English</th>\n",
       "      <th>Physics</th>\n",
       "    </tr>\n",
       "    <tr>\n",
       "      <th>ID</th>\n",
       "      <th></th>\n",
       "      <th></th>\n",
       "      <th></th>\n",
       "      <th></th>\n",
       "      <th></th>\n",
       "      <th></th>\n",
       "      <th></th>\n",
       "    </tr>\n",
       "  </thead>\n",
       "  <tbody>\n",
       "    <tr>\n",
       "      <th>2011A01</th>\n",
       "      <td>2011级A班</td>\n",
       "      <td>麦麦提</td>\n",
       "      <td>男</td>\n",
       "      <td>郭靖</td>\n",
       "      <td>88</td>\n",
       "      <td>87</td>\n",
       "      <td>90</td>\n",
       "    </tr>\n",
       "    <tr>\n",
       "      <th>2011A02</th>\n",
       "      <td>2011级A班</td>\n",
       "      <td>孙涵</td>\n",
       "      <td>男</td>\n",
       "      <td>郭靖</td>\n",
       "      <td>90</td>\n",
       "      <td>59</td>\n",
       "      <td>91</td>\n",
       "    </tr>\n",
       "    <tr>\n",
       "      <th>2011A03</th>\n",
       "      <td>2011级A班</td>\n",
       "      <td>汤子</td>\n",
       "      <td>女</td>\n",
       "      <td>郭靖</td>\n",
       "      <td>92</td>\n",
       "      <td>98</td>\n",
       "      <td>92</td>\n",
       "    </tr>\n",
       "    <tr>\n",
       "      <th>2011A04</th>\n",
       "      <td>2011级A班</td>\n",
       "      <td>王婧文</td>\n",
       "      <td>男</td>\n",
       "      <td>郭靖</td>\n",
       "      <td>84</td>\n",
       "      <td>71</td>\n",
       "      <td>90</td>\n",
       "    </tr>\n",
       "    <tr>\n",
       "      <th>2011A05</th>\n",
       "      <td>2011级A班</td>\n",
       "      <td>王瑞</td>\n",
       "      <td>女</td>\n",
       "      <td>郭靖</td>\n",
       "      <td>75</td>\n",
       "      <td>58</td>\n",
       "      <td>72</td>\n",
       "    </tr>\n",
       "    <tr>\n",
       "      <th>...</th>\n",
       "      <td>...</td>\n",
       "      <td>...</td>\n",
       "      <td>...</td>\n",
       "      <td>...</td>\n",
       "      <td>...</td>\n",
       "      <td>...</td>\n",
       "      <td>...</td>\n",
       "    </tr>\n",
       "    <tr>\n",
       "      <th>2013B07</th>\n",
       "      <td>2013级B班</td>\n",
       "      <td>梁芷若</td>\n",
       "      <td>男</td>\n",
       "      <td>周伯通</td>\n",
       "      <td>96</td>\n",
       "      <td>77</td>\n",
       "      <td>90</td>\n",
       "    </tr>\n",
       "    <tr>\n",
       "      <th>2013B08</th>\n",
       "      <td>2013级B班</td>\n",
       "      <td>廖军迎</td>\n",
       "      <td>男</td>\n",
       "      <td>周伯通</td>\n",
       "      <td>83</td>\n",
       "      <td>74</td>\n",
       "      <td>89</td>\n",
       "    </tr>\n",
       "    <tr>\n",
       "      <th>2013B09</th>\n",
       "      <td>2013级B班</td>\n",
       "      <td>廖志广</td>\n",
       "      <td>女</td>\n",
       "      <td>周伯通</td>\n",
       "      <td>91</td>\n",
       "      <td>51</td>\n",
       "      <td>87</td>\n",
       "    </tr>\n",
       "    <tr>\n",
       "      <th>2013B10</th>\n",
       "      <td>2013级B班</td>\n",
       "      <td>刘家灵</td>\n",
       "      <td>男</td>\n",
       "      <td>周伯通</td>\n",
       "      <td>93</td>\n",
       "      <td>67</td>\n",
       "      <td>87</td>\n",
       "    </tr>\n",
       "    <tr>\n",
       "      <th>2013B11</th>\n",
       "      <td>2013级B班</td>\n",
       "      <td>赵燕俐</td>\n",
       "      <td>男</td>\n",
       "      <td>周伯通</td>\n",
       "      <td>95</td>\n",
       "      <td>95</td>\n",
       "      <td>89</td>\n",
       "    </tr>\n",
       "  </tbody>\n",
       "</table>\n",
       "<p>70 rows × 7 columns</p>\n",
       "</div>"
      ],
      "text/plain": [
       "           Class Name Gendar ClassSponsor  Math  English  Physics\n",
       "ID                                                               \n",
       "2011A01  2011级A班  麦麦提      男           郭靖    88       87       90\n",
       "2011A02  2011级A班   孙涵      男           郭靖    90       59       91\n",
       "2011A03  2011级A班   汤子      女           郭靖    92       98       92\n",
       "2011A04  2011级A班  王婧文      男           郭靖    84       71       90\n",
       "2011A05  2011级A班   王瑞      女           郭靖    75       58       72\n",
       "...          ...  ...    ...          ...   ...      ...      ...\n",
       "2013B07  2013级B班  梁芷若      男          周伯通    96       77       90\n",
       "2013B08  2013级B班  廖军迎      男          周伯通    83       74       89\n",
       "2013B09  2013级B班  廖志广      女          周伯通    91       51       87\n",
       "2013B10  2013级B班  刘家灵      男          周伯通    93       67       87\n",
       "2013B11  2013级B班  赵燕俐      男          周伯通    95       95       89\n",
       "\n",
       "[70 rows x 7 columns]"
      ]
     },
     "execution_count": 23,
     "metadata": {},
     "output_type": "execute_result"
    }
   ],
   "source": [
    "import pandas as pd\n",
    "#读取C0.4数据表，path根据具体路径改\n",
    "path=r\"D:\\~\\C10_2data.csv\"\n",
    "data=pd.read_csv(path,sep=\",\",header=0,index_col=0,encoding='GBK')#数据含中文编码,header=0选择数据表中的第一列为列标签,学号列为索引，data数据存为pd.DataFrame类型.\n",
    "data"
   ]
  },
  {
   "cell_type": "markdown",
   "metadata": {},
   "source": [
    "### Exe.8"
   ]
  },
  {
   "cell_type": "code",
   "execution_count": 24,
   "metadata": {},
   "outputs": [
    {
     "data": {
      "text/html": [
       "<div>\n",
       "<style scoped>\n",
       "    .dataframe tbody tr th:only-of-type {\n",
       "        vertical-align: middle;\n",
       "    }\n",
       "\n",
       "    .dataframe tbody tr th {\n",
       "        vertical-align: top;\n",
       "    }\n",
       "\n",
       "    .dataframe thead th {\n",
       "        text-align: right;\n",
       "    }\n",
       "</style>\n",
       "<table border=\"1\" class=\"dataframe\">\n",
       "  <thead>\n",
       "    <tr style=\"text-align: right;\">\n",
       "      <th></th>\n",
       "      <th>Class</th>\n",
       "      <th>Name</th>\n",
       "      <th>Gendar</th>\n",
       "      <th>ClassSponsor</th>\n",
       "      <th>Math</th>\n",
       "      <th>English</th>\n",
       "      <th>Physics</th>\n",
       "    </tr>\n",
       "    <tr>\n",
       "      <th>ID</th>\n",
       "      <th></th>\n",
       "      <th></th>\n",
       "      <th></th>\n",
       "      <th></th>\n",
       "      <th></th>\n",
       "      <th></th>\n",
       "      <th></th>\n",
       "    </tr>\n",
       "  </thead>\n",
       "  <tbody>\n",
       "    <tr>\n",
       "      <th>2011A09</th>\n",
       "      <td>2011级A班</td>\n",
       "      <td>谢烨</td>\n",
       "      <td>男</td>\n",
       "      <td>郭靖</td>\n",
       "      <td>61</td>\n",
       "      <td>94</td>\n",
       "      <td>64</td>\n",
       "    </tr>\n",
       "    <tr>\n",
       "      <th>2011A11</th>\n",
       "      <td>2011级A班</td>\n",
       "      <td>杨劼池</td>\n",
       "      <td>女</td>\n",
       "      <td>郭靖</td>\n",
       "      <td>58</td>\n",
       "      <td>61</td>\n",
       "      <td>58</td>\n",
       "    </tr>\n",
       "  </tbody>\n",
       "</table>\n",
       "</div>"
      ],
      "text/plain": [
       "           Class Name Gendar ClassSponsor  Math  English  Physics\n",
       "ID                                                               \n",
       "2011A09  2011级A班   谢烨      男           郭靖    61       94       64\n",
       "2011A11  2011级A班  杨劼池      女           郭靖    58       61       58"
      ]
     },
     "execution_count": 24,
     "metadata": {},
     "output_type": "execute_result"
    }
   ],
   "source": [
    "#根据标签提取其中的数据，允许调整标签位置\n",
    "data[['Class','ClassSponsor','Name','Physics']].sort_values(by='Physics',ascending=False) #按所有学生的物理成绩排序，调整“班主任”列的次序，只看学生名和分数\n",
    "data['2011A01':'2011A12'] #通过index索引选择数据\n",
    "data[(data['Class']=='2011级A班')&(data['Math']<70)]#利用标签条件筛选所需的数据。"
   ]
  },
  {
   "cell_type": "markdown",
   "metadata": {},
   "source": [
    "### Exe.9"
   ]
  },
  {
   "cell_type": "code",
   "execution_count": 25,
   "metadata": {},
   "outputs": [
    {
     "data": {
      "text/html": [
       "<div>\n",
       "<style scoped>\n",
       "    .dataframe tbody tr th:only-of-type {\n",
       "        vertical-align: middle;\n",
       "    }\n",
       "\n",
       "    .dataframe tbody tr th {\n",
       "        vertical-align: top;\n",
       "    }\n",
       "\n",
       "    .dataframe thead tr th {\n",
       "        text-align: left;\n",
       "    }\n",
       "\n",
       "    .dataframe thead tr:last-of-type th {\n",
       "        text-align: right;\n",
       "    }\n",
       "</style>\n",
       "<table border=\"1\" class=\"dataframe\">\n",
       "  <thead>\n",
       "    <tr>\n",
       "      <th></th>\n",
       "      <th></th>\n",
       "      <th colspan=\"2\" halign=\"left\">English</th>\n",
       "      <th colspan=\"3\" halign=\"left\">Physics</th>\n",
       "    </tr>\n",
       "    <tr>\n",
       "      <th></th>\n",
       "      <th></th>\n",
       "      <th>mean</th>\n",
       "      <th>std</th>\n",
       "      <th>count</th>\n",
       "      <th>mean</th>\n",
       "      <th>std</th>\n",
       "    </tr>\n",
       "    <tr>\n",
       "      <th>Grade</th>\n",
       "      <th>Classes</th>\n",
       "      <th></th>\n",
       "      <th></th>\n",
       "      <th></th>\n",
       "      <th></th>\n",
       "      <th></th>\n",
       "    </tr>\n",
       "  </thead>\n",
       "  <tbody>\n",
       "    <tr>\n",
       "      <th rowspan=\"2\" valign=\"top\">2011</th>\n",
       "      <th>A</th>\n",
       "      <td>78.416667</td>\n",
       "      <td>15.138502</td>\n",
       "      <td>12.0</td>\n",
       "      <td>83.416667</td>\n",
       "      <td>11.804917</td>\n",
       "    </tr>\n",
       "    <tr>\n",
       "      <th>B</th>\n",
       "      <td>70.333333</td>\n",
       "      <td>16.400296</td>\n",
       "      <td>12.0</td>\n",
       "      <td>85.583333</td>\n",
       "      <td>11.735404</td>\n",
       "    </tr>\n",
       "    <tr>\n",
       "      <th rowspan=\"2\" valign=\"top\">2012</th>\n",
       "      <th>A</th>\n",
       "      <td>79.333333</td>\n",
       "      <td>7.487363</td>\n",
       "      <td>12.0</td>\n",
       "      <td>87.833333</td>\n",
       "      <td>2.480225</td>\n",
       "    </tr>\n",
       "    <tr>\n",
       "      <th>B</th>\n",
       "      <td>78.538462</td>\n",
       "      <td>11.990381</td>\n",
       "      <td>13.0</td>\n",
       "      <td>87.076923</td>\n",
       "      <td>5.604485</td>\n",
       "    </tr>\n",
       "    <tr>\n",
       "      <th rowspan=\"2\" valign=\"top\">2013</th>\n",
       "      <th>A</th>\n",
       "      <td>76.600000</td>\n",
       "      <td>14.354248</td>\n",
       "      <td>10.0</td>\n",
       "      <td>88.100000</td>\n",
       "      <td>2.078995</td>\n",
       "    </tr>\n",
       "    <tr>\n",
       "      <th>B</th>\n",
       "      <td>77.727273</td>\n",
       "      <td>15.172942</td>\n",
       "      <td>11.0</td>\n",
       "      <td>88.363636</td>\n",
       "      <td>1.206045</td>\n",
       "    </tr>\n",
       "  </tbody>\n",
       "</table>\n",
       "</div>"
      ],
      "text/plain": [
       "                 English            Physics                      \n",
       "                    mean        std   count       mean        std\n",
       "Grade Classes                                                    \n",
       "2011  A        78.416667  15.138502    12.0  83.416667  11.804917\n",
       "      B        70.333333  16.400296    12.0  85.583333  11.735404\n",
       "2012  A        79.333333   7.487363    12.0  87.833333   2.480225\n",
       "      B        78.538462  11.990381    13.0  87.076923   5.604485\n",
       "2013  A        76.600000  14.354248    10.0  88.100000   2.078995\n",
       "      B        77.727273  15.172942    11.0  88.363636   1.206045"
      ]
     },
     "execution_count": 25,
     "metadata": {},
     "output_type": "execute_result"
    }
   ],
   "source": [
    "#结合标签进行结构分析,请注释下面语句，或在报告中看输出结果\n",
    "#统计各班的平均成绩\n",
    "data.groupby(['Class']).mean()#使用groupby 对指定的列进行汇总处理，支持的函数有平均值mean,求和sum等\n",
    "#对班级标签进行处理，根据“Class”列的信息，增加新的标签项“Grade”，“Classes”\n",
    "data[['Grade','Classes']]=data['Class'].str.extract('(\\d+)级([A-Z])班') \n",
    "#extract中使用的是正则表达式，\"\\d\"代表数字，\"[A-Z]\"代表大写英文字母，正则表达式的使用见参考文献\n",
    "#data\n",
    "#做各班的数据透视表，查看不同年级，不同班的物理、英语成绩平均值、人数，以及均方差。\n",
    "#pd.pivot_table? #利用帮助查看pd.pivot_table的使用方法。\n",
    "pd.pivot_table(data,index=['Grade','Classes'], #选用年级，班作为汇集的标签\n",
    "                                   values=['Physics','English'],    #只看物理和英语成绩\n",
    "                                   aggfunc={'Physics':[np.mean,'count',np.std],'English':[np.mean,np.std]}) \n",
    "#对物理、英语分别采用不同的统计函数。"
   ]
  },
  {
   "cell_type": "markdown",
   "metadata": {},
   "source": [
    "### Exe.10"
   ]
  },
  {
   "cell_type": "code",
   "execution_count": 26,
   "metadata": {},
   "outputs": [
    {
     "name": "stderr",
     "output_type": "stream",
     "text": [
      "d:\\softwares\\Anaconda\\lib\\site-packages\\matplotlib\\backends\\backend_agg.py:240: RuntimeWarning: Glyph 32423 missing from current font.\n",
      "  font.set_text(s, 0.0, flags=flags)\n",
      "d:\\softwares\\Anaconda\\lib\\site-packages\\matplotlib\\backends\\backend_agg.py:240: RuntimeWarning: Glyph 29677 missing from current font.\n",
      "  font.set_text(s, 0.0, flags=flags)\n",
      "d:\\softwares\\Anaconda\\lib\\site-packages\\matplotlib\\backends\\backend_agg.py:240: RuntimeWarning: Glyph 22899 missing from current font.\n",
      "  font.set_text(s, 0.0, flags=flags)\n",
      "d:\\softwares\\Anaconda\\lib\\site-packages\\matplotlib\\backends\\backend_agg.py:240: RuntimeWarning: Glyph 30007 missing from current font.\n",
      "  font.set_text(s, 0.0, flags=flags)\n",
      "d:\\softwares\\Anaconda\\lib\\site-packages\\matplotlib\\backends\\backend_agg.py:203: RuntimeWarning: Glyph 32423 missing from current font.\n",
      "  font.set_text(s, 0, flags=flags)\n",
      "d:\\softwares\\Anaconda\\lib\\site-packages\\matplotlib\\backends\\backend_agg.py:203: RuntimeWarning: Glyph 29677 missing from current font.\n",
      "  font.set_text(s, 0, flags=flags)\n",
      "d:\\softwares\\Anaconda\\lib\\site-packages\\matplotlib\\backends\\backend_agg.py:203: RuntimeWarning: Glyph 22899 missing from current font.\n",
      "  font.set_text(s, 0, flags=flags)\n",
      "d:\\softwares\\Anaconda\\lib\\site-packages\\matplotlib\\backends\\backend_agg.py:203: RuntimeWarning: Glyph 30007 missing from current font.\n",
      "  font.set_text(s, 0, flags=flags)\n"
     ]
    },
    {
     "data": {
      "image/png": "[encoded data removed]",
      "text/plain": [
       "<Figure size 432x288 with 12 Axes>"
      ]
     },
     "metadata": {
      "needs_background": "light"
     },
     "output_type": "display_data"
    },
    {
     "data": {
      "image/png": "[encoded data removed]",
      "text/plain": [
       "<Figure size 1500x500 with 1 Axes>"
      ]
     },
     "metadata": {
      "needs_background": "light"
     },
     "output_type": "display_data"
    },
    {
     "data": {
      "image/png": "[encoded data removed]",
      "text/plain": [
       "<Figure size 432x288 with 1 Axes>"
      ]
     },
     "metadata": {
      "needs_background": "light"
     },
     "output_type": "display_data"
    },
    {
     "data": {
      "image/png": "[encoded data removed]",
      "text/plain": [
       "<Figure size 432x288 with 1 Axes>"
      ]
     },
     "metadata": {
      "needs_background": "light"
     },
     "output_type": "display_data"
    }
   ],
   "source": [
    "#分析各班的成绩分布情况，画出分布图\n",
    "import matplotlib.pyplot as plt\n",
    "#按不同班，画出男女生的物理、数学成绩分布\n",
    "data.hist(column=['Physics','Math'],\n",
    "by=['Class','Gendar'],\n",
    "bins=7\n",
    ")\n",
    "class1=data[(data['Class']=='2011级A班') |(data['Class']=='2012级A班')] \n",
    "#统计两个班的成绩分布情况\n",
    "#class1.hist(bins=20,stacked=True) \n",
    "#定制作图\n",
    "plt.subplots(figsize=(15,5),dpi=100)\n",
    "colors=['blue','red','green']\n",
    "subs=['Math','Physics','English']\n",
    "for i in range(3):\n",
    "    plt.subplot(1,3,i+1)\n",
    "    #画出班级2011级和2012级A班各科成绩的分布图\n",
    "    #ax=class1[subs[i]].plot(kind='hist',bins=20,label=subs[i],color=colors[i])\n",
    "    #ax.set_ylabel('Counts')\n",
    "    #以下三句用于分析密度函数，注意注释其他作图\n",
    "    class1[subs[i]].plot(kind='hist',density=True,bins=20,label=subs[i],color=colors[i])\n",
    "    ax=class1[subs[i]].plot(kind='kde',linestyle='--',label=subs[i]+' KDE',color=colors[i-1])\n",
    "    ax.set_ylabel('Kernel Density Estimation')\n",
    "    ax.set_xlabel('Scores')\n",
    "    #ax.set_xlabel('分数')\n",
    "    plt.legend()\n",
    "    plt.show()"
   ]
  },
  {
   "cell_type": "code",
   "execution_count": 27,
   "metadata": {},
   "outputs": [
    {
     "data": {
      "image/png": "[encoded data removed]",
      "text/plain": [
       "<Figure size 432x288 with 1 Axes>"
      ]
     },
     "metadata": {
      "needs_background": "light"
     },
     "output_type": "display_data"
    }
   ],
   "source": [
    "from matplotlib import pyplot as plt\n",
    "t=np.linspace(0,10,500,endpoint=False)\n",
    "signals=np.exp(-0.5*t)*np.sin(2*np.pi*t)\n",
    "#signals=np.sin(2*np.pi*t)\n",
    "plt.plot(t,signals)\n",
    "plt.show()"
   ]
  },
  {
   "cell_type": "code",
   "execution_count": 28,
   "metadata": {},
   "outputs": [
    {
     "name": "stdout",
     "output_type": "stream",
     "text": [
      "3.1415926535897932384626433832795028841971693993751058209749445923078164062862089986280348253421170679821480865132823066470938446095505822317253594081284811174502841027019385211055596446229489549303819644288109756659334461284756482337867831652712019091456485669234603486104543266482133936072602491412737245870066063155881748815209209628292540917153643678925903600113305305488204665213841469519415116094330572703657595919530921861173819326117931051185480744623799627495673518857527248912279381830119491298336733624406566430860213949463952247371907021798609437027705392171762931767523846748184676694051320005681271452635608277857713427577896091736371787214684409012249534301465495853710507922796892589235420199561121290219608640344181598136297747713099605187072113499999983729780499510597317328160963185950244594553469083026425223082533446850352619311881710100031378387528865875332083814206171776691473035982534904287554687311595628638823537875937519577818577805321712268066130019278766111959092164201989380952572010654858632788659361533818279682303019520353018529689957736225994138912497217752834791315155748572424541506959508295331168617278558890750983817546374649393192550604009277016711390098488240128583616035637076601047101819429555961989467678374494482553797747268471040475346462080466842590694912933136770289891521047521620569660240580381501935112533824300355876402474964732639141992726042699227967823547816360093417216412199245863150302861829745557067498385054945885869269956909272107975093029553211653449872027559602364806654991198818347977535663698074265425278625518184175746728909777727938000816470600161452491921732172147723501414419735685481613611573525521334757418494684385233239073941433345477624168625189835694855620992192221842725502542568876717904946016534668049886272327917860857843838279679766814541009538837863609506800642251252051173929848960841284886269456042419652850222106611863067442786220391949450471237137869609563643719172874677646575739624138908658326459958133904780275881\n"
     ]
    }
   ],
   "source": [
    "from decimal import *\n",
    "\n",
    "getcontext().prec=2000\n",
    "\n",
    "def cal_pi():\n",
    "    fh = 1\n",
    "    xs = 2 * Decimal(3).sqrt()\n",
    "    pi = xs\n",
    "    for i in range(1,5000):\n",
    "        t = 2 * i + 1\n",
    "        fh = fh * (-1)\n",
    "        pi = pi + fh * xs / (t * (Decimal(3)**i)) # 其实这里可以不用分母高精度除法计算\n",
    "        ## 因为分母增长太快了，而带来的影响非常小。 不过这个只是经验性质，并没有严格的数学证明。\n",
    "    return pi\n",
    "\n",
    "print(cal_pi())"
   ]
  }
 ],
 "metadata": {
  "kernelspec": {
   "display_name": "Python 3",
   "language": "python",
   "name": "python3"
  },
  "language_info": {
   "codemirror_mode": {
    "name": "ipython",
    "version": 3
   },
   "file_extension": ".py",
   "mimetype": "text/x-python",
   "name": "python",
   "nbconvert_exporter": "python",
   "pygments_lexer": "ipython3",
   "version": "3.9.7"
  },
  "toc": {
   "base_numbering": 1,
   "nav_menu": {},
   "number_sections": true,
   "sideBar": true,
   "skip_h1_title": false,
   "title_cell": "Table of Contents",
   "title_sidebar": "Contents",
   "toc_cell": false,
   "toc_position": {},
   "toc_section_display": true,
   "toc_window_display": false
  }
 },
 "nbformat": 4,
 "nbformat_minor": 4
}
